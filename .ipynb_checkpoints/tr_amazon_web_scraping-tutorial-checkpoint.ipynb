{
 "cells": [
  {
   "cell_type": "code",
   "execution_count": 1,
   "id": "58af443a",
   "metadata": {},
   "outputs": [],
   "source": [
    "from bs4 import BeautifulSoup\n",
    "import requests\n",
    "import pandas as pd"
   ]
  },
  {
   "cell_type": "code",
   "execution_count": 2,
   "id": "982573ea",
   "metadata": {},
   "outputs": [],
   "source": [
    "URL = 'https://sad.amazon.com.tr/s?k=mekanik+klavye&crid=25VZE8Q1PDDI1&sprefix=mekan%2Caps%2C177&ref=nb_sb_ss_ts-doa-p_2_5'"
   ]
  },
  {
   "cell_type": "code",
   "execution_count": 3,
   "id": "a2d6b260",
   "metadata": {},
   "outputs": [],
   "source": [
    "# headers for request\n",
    "HEADERS = {'User-Agent': 'Mozilla/5.0 (Windows NT 10.0; Win64; x64) AppleWebKit/537.36 (KHTML, like Gecko) Chrome/119.0.0.0 Safari/537.36'}"
   ]
  },
  {
   "cell_type": "code",
   "execution_count": 4,
   "id": "7ddff01a",
   "metadata": {},
   "outputs": [
    {
     "data": {
      "text/plain": [
       "<Response [200]>"
      ]
     },
     "execution_count": 4,
     "metadata": {},
     "output_type": "execute_result"
    }
   ],
   "source": [
    "# HTTP request\n",
    "webpage = requests.get(URL, headers=HEADERS)\n",
    "webpage"
   ]
  },
  {
   "cell_type": "code",
   "execution_count": 5,
   "id": "91ba4f1c",
   "metadata": {},
   "outputs": [
    {
     "data": {
      "text/plain": [
       "bytes"
      ]
     },
     "execution_count": 5,
     "metadata": {},
     "output_type": "execute_result"
    }
   ],
   "source": [
    "type(webpage.content)"
   ]
  },
  {
   "cell_type": "code",
   "execution_count": 6,
   "id": "e3d99974",
   "metadata": {},
   "outputs": [],
   "source": [
    "# soup object containing all data\n",
    "soup = BeautifulSoup(webpage.content, 'html.parser')"
   ]
  },
  {
   "cell_type": "code",
   "execution_count": 7,
   "id": "83fa4f86",
   "metadata": {},
   "outputs": [],
   "source": [
    "# fetch links as list of tag objects\n",
    "links = soup.find_all(\"a\", attrs={'class':'a-link-normal s-underline-text s-underline-link-text s-link-style a-text-normal'})"
   ]
  },
  {
   "cell_type": "code",
   "execution_count": 8,
   "id": "01e792a2",
   "metadata": {},
   "outputs": [],
   "source": [
    "link = links[0].get('href')"
   ]
  },
  {
   "cell_type": "code",
   "execution_count": 9,
   "id": "0b6d0ede",
   "metadata": {},
   "outputs": [
    {
     "data": {
      "text/plain": [
       "'/sspa/click?ie=UTF8&spc=MToxODIzMzc0NTE1NzgxNjg2OjE3MDAyOTcyNDA6c3BfYXRmOjMwMDA5MjA0ODgzOTAzMjo6MDo6&url=%2FROBEVE-Klavyesi-Ayarlanabilir-Se%25C3%25A7ene%25C4%259Fi-Dayan%25C4%25B1kl%25C4%25B1%2Fdp%2FB0CJCM83DT%2Fref%3Dsr_1_1_sspa%3Fcrid%3D25VZE8Q1PDDI1%26keywords%3Dmekanik%2Bklavye%26qid%3D1700297240%26sprefix%3Dmekan%252Caps%252C177%26sr%3D8-1-spons%26sp_csd%3Dd2lkZ2V0TmFtZT1zcF9hdGY%26psc%3D1'"
      ]
     },
     "execution_count": 9,
     "metadata": {},
     "output_type": "execute_result"
    }
   ],
   "source": [
    "link"
   ]
  },
  {
   "cell_type": "code",
   "execution_count": 10,
   "id": "ba0252e2",
   "metadata": {},
   "outputs": [],
   "source": [
    "# storing the link in product_list\n",
    "product_list = 'https://www.amazon.com.tr' + link"
   ]
  },
  {
   "cell_type": "code",
   "execution_count": 11,
   "id": "c98c99e8",
   "metadata": {
    "scrolled": true
   },
   "outputs": [
    {
     "data": {
      "text/plain": [
       "'https://www.amazon.com.tr/sspa/click?ie=UTF8&spc=MToxODIzMzc0NTE1NzgxNjg2OjE3MDAyOTcyNDA6c3BfYXRmOjMwMDA5MjA0ODgzOTAzMjo6MDo6&url=%2FROBEVE-Klavyesi-Ayarlanabilir-Se%25C3%25A7ene%25C4%259Fi-Dayan%25C4%25B1kl%25C4%25B1%2Fdp%2FB0CJCM83DT%2Fref%3Dsr_1_1_sspa%3Fcrid%3D25VZE8Q1PDDI1%26keywords%3Dmekanik%2Bklavye%26qid%3D1700297240%26sprefix%3Dmekan%252Caps%252C177%26sr%3D8-1-spons%26sp_csd%3Dd2lkZ2V0TmFtZT1zcF9hdGY%26psc%3D1'"
      ]
     },
     "execution_count": 11,
     "metadata": {},
     "output_type": "execute_result"
    }
   ],
   "source": [
    "product_list"
   ]
  },
  {
   "cell_type": "code",
   "execution_count": 12,
   "id": "0bd0058a",
   "metadata": {},
   "outputs": [],
   "source": [
    "new_webpage = requests.get(product_list, headers=HEADERS)"
   ]
  },
  {
   "cell_type": "code",
   "execution_count": 13,
   "id": "4b7afac6",
   "metadata": {},
   "outputs": [
    {
     "data": {
      "text/plain": [
       "<Response [200]>"
      ]
     },
     "execution_count": 13,
     "metadata": {},
     "output_type": "execute_result"
    }
   ],
   "source": [
    "new_webpage"
   ]
  },
  {
   "cell_type": "code",
   "execution_count": 14,
   "id": "b8e4a43c",
   "metadata": {},
   "outputs": [],
   "source": [
    "# soup object containing product data\n",
    "new_soup = BeautifulSoup(new_webpage.content, 'html.parser')"
   ]
  },
  {
   "cell_type": "code",
   "execution_count": 15,
   "id": "181001d3",
   "metadata": {},
   "outputs": [
    {
     "data": {
      "text/plain": [
       "'ROBEVE Blic Oyuncu Klavyesi RGB Klavye 20 Modlu Ayarlanabilir Renk Seçeneği RGB Suya Ve Toza Dayanıklı Klavye Oyun Klavyesi Oyuncu Klavye Mekanik Klavye Kırmızı Switch (Beyaz)'"
      ]
     },
     "execution_count": 15,
     "metadata": {},
     "output_type": "execute_result"
    }
   ],
   "source": [
    "# finding the title\n",
    "new_soup.find('span', attrs={'id':'productTitle'}).text.strip()"
   ]
  },
  {
   "cell_type": "code",
   "execution_count": 16,
   "id": "85a61893",
   "metadata": {},
   "outputs": [
    {
     "data": {
      "text/plain": [
       "'581,66TL'"
      ]
     },
     "execution_count": 16,
     "metadata": {},
     "output_type": "execute_result"
    }
   ],
   "source": [
    "# finding the price\n",
    "new_soup.find('span', attrs={'class':'a-offscreen'}).text.strip()"
   ]
  },
  {
   "cell_type": "code",
   "execution_count": 17,
   "id": "60af2650",
   "metadata": {},
   "outputs": [
    {
     "data": {
      "text/plain": [
       "'5/5'"
      ]
     },
     "execution_count": 17,
     "metadata": {},
     "output_type": "execute_result"
    }
   ],
   "source": [
    "# extracting the rating\n",
    "new_soup.find('span', attrs={'class':'a-size-medium a-color-base'}).text"
   ]
  },
  {
   "cell_type": "code",
   "execution_count": null,
   "id": "79360bf5",
   "metadata": {},
   "outputs": [],
   "source": []
  }
 ],
 "metadata": {
  "kernelspec": {
   "display_name": "Python 3 (ipykernel)",
   "language": "python",
   "name": "python3"
  },
  "language_info": {
   "codemirror_mode": {
    "name": "ipython",
    "version": 3
   },
   "file_extension": ".py",
   "mimetype": "text/x-python",
   "name": "python",
   "nbconvert_exporter": "python",
   "pygments_lexer": "ipython3",
   "version": "3.11.5"
  }
 },
 "nbformat": 4,
 "nbformat_minor": 5
}
